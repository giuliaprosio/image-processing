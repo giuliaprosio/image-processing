{
  "nbformat": 4,
  "nbformat_minor": 0,
  "metadata": {
    "colab": {
      "provenance": []
    },
    "kernelspec": {
      "name": "python3",
      "display_name": "Python 3"
    },
    "language_info": {
      "name": "python"
    }
  },
  "cells": [
    {
      "cell_type": "markdown",
      "source": [
        "<h1>Practical work 1: introduction and image enhancement</h1>"
      ],
      "metadata": {
        "id": "rUXNOPEtgP8y"
      }
    },
    {
      "cell_type": "markdown",
      "source": [
        "<h2>Short introduction to image processing with Python</h2>\n",
        "\n",
        "Help: use the function help() to get information on a Python objet.\n",
        "\n",
        "Images are stored as arrays that is the default type of the numpy module. Defaut type of array elements is float64 according to the IEEE754 norm. Special float values are defined: infinity (inf) and undefined (nan, not a number), and some numerical constants, such as\n",
        "π\n",
        "."
      ],
      "metadata": {
        "id": "7v4YTcqBgK8f"
      }
    },
    {
      "cell_type": "code",
      "source": [
        "# import numpy\n",
        "import numpy as np\n",
        "\n",
        "# predefined constants\n",
        "print(np.inf,np.nan,np.pi)\n",
        "\n",
        "# some values\n",
        "print( 1., 1e10, -1.2e-3)"
      ],
      "metadata": {
        "id": "j0b8ewgEgtET"
      },
      "execution_count": null,
      "outputs": []
    },
    {
      "cell_type": "markdown",
      "source": [
        "<h2>Creating an array: several ways. </h2>\n",
        "\n",
        "1. From a list of values (formally any Python iterable object). Elements of an array have the same type, determined by Numpy:"
      ],
      "metadata": {
        "id": "JGbCYuQjgweT"
      }
    },
    {
      "cell_type": "code",
      "source": [
        "V = np.array([1,2,3])\n",
        "M = np.array([[1,2,3],[4,5,6.]])\n",
        "print (\"V is of type\",V.dtype)\n",
        "print (\"M is of type\",I.dtype)"
      ],
      "metadata": {
        "id": "HSmm6n-ig4Wg"
      },
      "execution_count": null,
      "outputs": []
    },
    {
      "cell_type": "markdown",
      "source": [
        "2. Without values: Numpy has constructors such as empty(), zeros(), ones()... Shape should be given (see below). Important: empty() does not initialize array elements."
      ],
      "metadata": {
        "id": "0_0Mh4oMg7CJ"
      }
    },
    {
      "cell_type": "code",
      "source": [
        "I = np.zeros((3,4))\n",
        "print(I)\n",
        "J = np.empty((4,3))\n",
        "print(J)"
      ],
      "metadata": {
        "id": "trB4Gbmsg_pH"
      },
      "execution_count": null,
      "outputs": []
    },
    {
      "cell_type": "markdown",
      "source": [
        "3. From a sequence, prefer arange() from numpy to range() from python."
      ],
      "metadata": {
        "id": "_a6U6pmfhBW5"
      }
    },
    {
      "cell_type": "code",
      "source": [
        "print(np.arange(10))\n",
        "print(np.arange(0,10,2))\n",
        "print(np.arange(9,-1,-.5))"
      ],
      "metadata": {
        "id": "u1nqJNjYhDaQ"
      },
      "execution_count": null,
      "outputs": []
    },
    {
      "cell_type": "markdown",
      "source": [
        "<h2>Shape of an array</h2>\n",
        "Shape decribes the number of elements for each dimension. A vector is of dimension 1, a matrix is of dimension 2. Superior dimensions are possible. Shape is not size that is the number of elements of an array. Type of shape is always a tuple of integers. With previous example:"
      ],
      "metadata": {
        "id": "dr_hXB57hFKc"
      }
    },
    {
      "cell_type": "code",
      "source": [
        "print(I.shape, I.size)\n",
        "print(J.shape, J.size)\n",
        "print(V.shape, V.size)"
      ],
      "metadata": {
        "id": "79xZFdZ_hOhx"
      },
      "execution_count": null,
      "outputs": []
    },
    {
      "cell_type": "markdown",
      "source": [
        "An important function/method is reshape() to change the shape of an array. Typical usage of reshape() is to transform a vector into a matrix or reciprocally."
      ],
      "metadata": {
        "id": "jzO5YwwYhRFe"
      }
    },
    {
      "cell_type": "code",
      "source": [
        "K = np.arange(12)).reshape((3,4))\n",
        "print(K)\n",
        "print(np.reshape(K,(12)))\n",
        "print(K.reshape((2,2,3)))"
      ],
      "metadata": {
        "id": "PzAOF4K2hSPi"
      },
      "execution_count": null,
      "outputs": []
    },
    {
      "cell_type": "markdown",
      "source": [
        "<h2>Elements of an array</h2>\n",
        "Access element by indices: two syntaxe are possible, the first given in the example is prefered. Negative index is possible with the same meanning of Python list.\n"
      ],
      "metadata": {
        "id": "OJf3oyrmhT3l"
      }
    },
    {
      "cell_type": "code",
      "source": [
        "I = np.arange(12).reshape((3,4))\n",
        "print(I[1,2])\n",
        "print(I[0][0])\n",
        "print(I[-1,0])"
      ],
      "metadata": {
        "id": "mdociboohdNE"
      },
      "execution_count": null,
      "outputs": []
    },
    {
      "cell_type": "markdown",
      "source": [
        "Access by group of indices using the operator : allows to extract subarray. General syntaxe is start:end:step and it is very powerfull:"
      ],
      "metadata": {
        "id": "gVABgxwHhe0g"
      }
    },
    {
      "cell_type": "code",
      "source": [
        "print('extract the first line')\n",
        "print(I[0,:])\n",
        "print(I[0,0:])\n",
        "print(I[0,::])\n",
        "print(I[0,::1])\n",
        "\n",
        "print('extract center of the array')\n",
        "print(I[1:3,1:3])\n",
        "\n",
        "print('extract elements with even indices')\n",
        "print(I[::2,::2])\n",
        "\n",
        "print('print the horizontal mirror of an array')\n",
        "print(I[:,::-1])"
      ],
      "metadata": {
        "id": "bg0ar3UwhiFs"
      },
      "execution_count": null,
      "outputs": []
    },
    {
      "cell_type": "markdown",
      "source": [
        "<h2>Array arithmetic</h2>\n",
        "Operators and functions can be applied to arrays. Mostly, operations are element-wise (i.e. applied element by element). The consequence is arrays should have the same shape. One operand can also be scalar in most of time.\n"
      ],
      "metadata": {
        "id": "fgH0SxemhmCO"
      }
    },
    {
      "cell_type": "code",
      "source": [
        "A = np.arange(12).reshape((3,4))\n",
        "B = 2 * A + 1\n",
        "C = A + B\n",
        "D = np.cos(2*np.pi*A/12)\n",
        "\n",
        "print (D)\n",
        "print (D**2)\n",
        "print (D>0)"
      ],
      "metadata": {
        "id": "yBlXvCmYhuP-"
      },
      "execution_count": null,
      "outputs": []
    },
    {
      "cell_type": "markdown",
      "source": [
        "Array may be viewed as matrix, we can make some linear algebraic manipulation. For example, np.matmul() is the matrix multiplication. It can be used to build matrix from vector. An example, using the transpose operator T."
      ],
      "metadata": {
        "id": "SzQMoKklhvEV"
      }
    },
    {
      "cell_type": "code",
      "source": [
        "L = np.arange(1,6).reshape((1,5))\n",
        "# transpose of L. Warning: C remains a reference to L\n",
        "C = L.T\n",
        "# This could be better if your want to touch L\n",
        "C = L.T.copy()\n",
        "\n",
        "print(\"A 5*5 matrix:\")\n",
        "print(np.matmul(C,L))\n",
        "\n",
        "print(\"A dot product, but result is a matrix:\")\n",
        "print(np.matmul(L,C))\n",
        "print(np.matmul(L,C)[0,0])\n",
        "\n",
        "print(\"dot() is prefered with vectors:\")\n",
        "V = np.arange(1,6)\n",
        "print(V.dot(V))\n",
        "print(np.dot(V,V))"
      ],
      "metadata": {
        "id": "uvQ_bk5Zhxpi"
      },
      "execution_count": null,
      "outputs": []
    },
    {
      "cell_type": "markdown",
      "source": [
        "<h2>Images</h2>\n",
        "We make use of PIL module (https://pillow.readthedocs.io/en/stable/reference/Image.html) to load and write an image and easily converted to Numpy array. Be careful: array type depends on image.\n",
        "\n"
      ],
      "metadata": {
        "id": "QUISukwxhzd5"
      }
    },
    {
      "cell_type": "code",
      "source": [
        "from PIL import Image\n",
        "\n",
        "# reading an image and convert to array\n",
        "myimage = np.array(Image.open('image.png'))\n",
        "\n",
        "# write an image (alternative format) from an array\n",
        "Image.fromarray(myimage).save('image.jpg')"
      ],
      "metadata": {
        "id": "-_s7bCL9h7RS"
      },
      "execution_count": null,
      "outputs": []
    },
    {
      "cell_type": "markdown",
      "source": [
        "Array can be displayed as an image using Matplotlib module. Here a short example:"
      ],
      "metadata": {
        "id": "vSdLz02Jh-ue"
      }
    },
    {
      "cell_type": "code",
      "source": [
        "import matplotlib.pyplot as plt\n",
        "\n",
        "# minimal example:\n",
        "plt.imshow(myimage)\n",
        "plt.show()\n",
        "\n",
        "# with more controls:\n",
        "w,h=400,400\n",
        "plt.figure(figsize=(w/80,h/80))  # optional, to control the size of figure (unit: pixel)\n",
        "plt.gray() # optional call to display image using a gray colormap\n",
        "plt.title('This is an image') # optional: add a title\n",
        "plt.axis('off') # optional: remove axes\n",
        "plt.imshow(myimage)\n",
        "plt.show()"
      ],
      "metadata": {
        "id": "y8tiSx_qh_b9"
      },
      "execution_count": null,
      "outputs": []
    },
    {
      "cell_type": "markdown",
      "source": [
        "<h1>Exercice 1</h1>\n",
        "\n",
        "In this exercice, we work with image img/moon.png. If possible give two solutions : one with loops (for, while, ...) and one without loops.\n",
        "\n",
        "1. Write and test a function openImage() getting an image filename as argument and returning the array of pixel values."
      ],
      "metadata": {
        "id": "raVk30rviCc-"
      }
    },
    {
      "cell_type": "code",
      "source": [
        "from PIL import Image\n",
        "import numpy as np\n",
        "import matplotlib.pyplot as plt\n",
        "\n",
        "def openImage(image):\n",
        "    \"\"\" str -> Array\n",
        "    \"\"\"\n",
        "    #plt.imshow(moon, cmap='gray', vmin=0, vmax=255)\n",
        "    #plt.show()\n",
        "\n",
        "    return np.array(Image.open(image))\n",
        "\n",
        "print('Opened Image:')\n",
        "print(openImage('img/moon.png'))"
      ],
      "metadata": {
        "id": "E5PN-4eSiNED"
      },
      "execution_count": null,
      "outputs": []
    },
    {
      "cell_type": "markdown",
      "source": [
        "2. Write and test a function countPixels() getting an array and an integer k as arguments and returning the number of pixels having the value k."
      ],
      "metadata": {
        "id": "bP-8BqUziQCN"
      }
    },
    {
      "cell_type": "code",
      "source": [
        "moon = openImage('img/moon.png')\n",
        "\n",
        "\n",
        "def countPixels(I,k):\n",
        "    \"\"\" Array*int -> int\"\"\"\n",
        "    return (I==k).sum()\n",
        "print('Amount of pixels:')\n",
        "print(countPixels(moon,3))"
      ],
      "metadata": {
        "id": "TcgPU76aiS3D"
      },
      "execution_count": null,
      "outputs": []
    },
    {
      "cell_type": "markdown",
      "source": [
        "3. Write and test a function replacePixels() getting an array and two intergers and replacing pixels having k1value to k2 value and returning the new array. Be aware to not modify I."
      ],
      "metadata": {
        "id": "v6VL6QpViVmA"
      }
    },
    {
      "cell_type": "code",
      "source": [
        "def replacePixels(I,k1,k2):\n",
        "    \"\"\" Array*int*int -> Array \"\"\"\n",
        "    a = np.array(I)\n",
        "    return np.where(a==k1, k2, a)\n",
        "\n",
        "print('Replaced pixels:')\n",
        "print(replacePixels(moon, 1, 7))\n",
        "b = np.array(moon)\n",
        "print(np.shape(b))"
      ],
      "metadata": {
        "id": "u7AI_fkIiT0H"
      },
      "execution_count": null,
      "outputs": []
    },
    {
      "cell_type": "markdown",
      "source": [
        "4. Write and test a function normalizeImage() getting an array and two integers k1 and k2 and returning an array with elements normalized to the interval\n",
        "[\n",
        "k\n",
        "1\n",
        ",\n",
        "k\n",
        "2\n",
        "]\n",
        "."
      ],
      "metadata": {
        "id": "d7dtSLzgiaeT"
      }
    },
    {
      "cell_type": "code",
      "source": [
        "def normalizeImage(I,k1,k2):\n",
        "    \"\"\" Array*int*int -> Array \"\"\"\n",
        "    a = np.array(I)\n",
        "    d = k2-k1\n",
        "    d_arr = np.max(a)-np.min(a)\n",
        "    return (((a-np.min(a))*d)/d_arr)+k1\n",
        "\n",
        "print('Normalize image:')\n",
        "print(normalizeImage(moon, 0, 1))"
      ],
      "metadata": {
        "id": "okkBVIPXicdC"
      },
      "execution_count": null,
      "outputs": []
    },
    {
      "cell_type": "markdown",
      "source": [
        "5. Write and test a function inverteImage() getting an array and returning and arry having inverted pixel values (i.e. the transform\n",
        "k\n",
        "↦\n",
        "255\n",
        "−\n",
        "k"
      ],
      "metadata": {
        "id": "Xhg1EBqwifDS"
      }
    },
    {
      "cell_type": "code",
      "source": [
        "def inverteImage(I):\n",
        "    \"\"\" Array -> Array \"\"\"\n",
        "    a = np.array(I)\n",
        "    return np.max(a)-a\n",
        "\n",
        "print('Inverted image:')\n",
        "print(inverteImage(moon))"
      ],
      "metadata": {
        "id": "yGBJ0tp5igQs"
      },
      "execution_count": null,
      "outputs": []
    },
    {
      "cell_type": "markdown",
      "source": [
        "6. Write and test a function computeHistogram() getting an array and returning its histogram. Type of histogram can be an array or a list. It is forbidden to use an histogram method from a Python module. Is it possible to compute the histogram without explicitely visiting array pixels?"
      ],
      "metadata": {
        "id": "XM0CykGdijEp"
      }
    },
    {
      "cell_type": "code",
      "source": [
        "def computeHistogram(I):\n",
        "    \"\"\" Array -> list[int] \"\"\"\n",
        "    a = np.array(I)\n",
        "    unique, counts = np.unique(a, return_counts=True)\n",
        "    return np.asarray((unique, counts)).T\n",
        "    # return dict(zip(unique, counts))\n",
        "\n",
        "print('Histogram:')\n",
        "print(computeHistogram(moon))\n",
        "\n",
        "#It is possible to compute a histogram without explicitely visiting array using dictionary.\n",
        "# return dict(zip(unique, counts)) instead of return"
      ],
      "metadata": {
        "id": "flKggAzKikS9"
      },
      "execution_count": null,
      "outputs": []
    },
    {
      "cell_type": "markdown",
      "source": [
        "7. Write and test a function thresholdImage() getting an array I and an integer s and returning an array having elements set to 0 if corresponding element of I is lower than s or 255 otherwise."
      ],
      "metadata": {
        "id": "S5Uk9tQVinjL"
      }
    },
    {
      "cell_type": "code",
      "source": [
        "def thresholdImage(I,s):\n",
        "    \"\"\" Array*int -> Array \"\"\"\n",
        "    a = np.array(I)\n",
        "    return np.where(a<s, 0, 255)\n",
        "\n",
        "print('Array:')\n",
        "print(thresholdImage(moon, 7))"
      ],
      "metadata": {
        "id": "TVC21BuXiqdc"
      },
      "execution_count": null,
      "outputs": []
    },
    {
      "cell_type": "markdown",
      "source": [
        "8. Using previous functions, give a series of instructions to read then to display an image, plot the histogram (one can use plot() or bar() from matplotlib.pyplot module), inverse the image and display it, plot its histogram."
      ],
      "metadata": {
        "id": "NdN-1IArisqV"
      }
    },
    {
      "cell_type": "code",
      "source": [
        "import matplotlib.pyplot as plt\n",
        "\n",
        "## your code start below\n",
        "\n",
        "import matplotlib.pyplot as plt\n",
        "\n",
        "# Displaying the image\n",
        "moon_1 = openImage('img/moon.png')\n",
        "print('Inverted image')\n",
        "plt.imshow(moon_1, cmap = 'gray', vmin=0, vmax=255)\n",
        "plt.show()\n",
        "\n",
        "# Computing the histogram\n",
        "moonHist = computeHistogram(moon_1)\n",
        "\n",
        "moonFreq = np.delete(moonHist, 0, axis=1)\n",
        "\n",
        "x = np.arange(1,255,1)\n",
        "y = moonFreq.flatten()\n",
        "\n",
        "# Plot the histogram\n",
        "print('Histogram')\n",
        "plt.bar(x, y)\n",
        "plt.show()\n",
        "\n",
        "# Displaying the inverted image\n",
        "print('Inverted image')\n",
        "moon_inverted = inverteImage(moon)\n",
        "plt.imshow(moon_inverted, cmap = 'gray', vmin=0, vmax=255)\n",
        "plt.show()\n",
        "\n",
        "# Computing the inverted histogram\n",
        "print('Inverted histogram')\n",
        "moonHist_inverted = computeHistogram(moon_inverted)\n",
        "\n",
        "moonFreq_inverted = np.delete(moonHist_inverted, 0, axis=1)\n",
        "\n",
        "x1 = np.arange(1,255,1)\n",
        "y_inverted = moonFreq_inverted.flatten()\n",
        "y1 = y_inverted\n",
        "\n",
        "# Plot the inverted histogram\n",
        "plt.bar(x1, y1)\n",
        "plt.show()"
      ],
      "metadata": {
        "id": "OqxE5Z32iuXq"
      },
      "execution_count": null,
      "outputs": []
    },
    {
      "cell_type": "markdown",
      "source": [
        "9. Give a series of instructions to read and display an image, plot the histogram, normalize the image to the interval\n",
        "[\n",
        "10\n",
        ",\n",
        "50\n",
        "]\n",
        ", compute the new histogram, display the image and the histogram. Remark: imshow() normalizes image. To avoid this and see the effect of the normalization, use imshow() with parameters vmin=0,vmax=255. Comment the results."
      ],
      "metadata": {
        "id": "_Qslv5o1ix4a"
      }
    },
    {
      "cell_type": "code",
      "source": [
        "import matplotlib.pyplot as plt\n",
        "\n",
        "moon_1 = openImage('img/moon.png')\n",
        "plt.imshow(moon_1, cmap = 'gray', vmin=0, vmax=255)\n",
        "plt.show()\n",
        "computeHistogram(moon_1)\n",
        "\n",
        "\n",
        "normImageArray = normalizeImage(moon_1, 10, 50)\n",
        "print('Normalized image array:')\n",
        "print(normImageArray)\n",
        "norm = plt.imshow(normImageArray , cmap = 'gray')\n",
        "print('Normalized image:')\n",
        "plt.show()\n",
        "\n",
        "\n",
        "unique, counts = np.unique(normImageArray, return_counts=True)\n",
        "b = np.asarray((unique, counts)).T\n",
        "print(b)\n",
        "\n",
        "c = np.delete(b, 0, axis=1)\n",
        "x = range(0,32)\n",
        "d = c.flatten()\n",
        "y = d\n",
        "\n",
        "#plotting\n",
        "print('Histogram:')\n",
        "plt.bar(x, y)\n",
        "plt.show()"
      ],
      "metadata": {
        "id": "-NXmfgcpi05R"
      },
      "execution_count": null,
      "outputs": []
    },
    {
      "cell_type": "markdown",
      "source": [
        "10. Same question than 9. remplacing the normalization by a thresholding with parameter\n",
        "s\n",
        "=\n",
        "127\n",
        "."
      ],
      "metadata": {
        "id": "KzQUUTZji3H1"
      }
    },
    {
      "cell_type": "code",
      "source": [
        "import matplotlib.pyplot as plt\n",
        "\n",
        "moon_1 = openImage('img/moon.png')\n",
        "plt.imshow(moon_1, cmap = 'gray', vmin=0, vmax=255)\n",
        "plt.show()\n",
        "moonHist = computeHistogram(moon_1)\n",
        "moonFreq = np.delete(moonHist, 0, axis=1)\n",
        "x3 = np.arange(1,255,1)\n",
        "newMoon = moonFreq.flatten()\n",
        "y3 = newMoon\n",
        "print('Histogram:')\n",
        "plt.bar(x3, y3)\n",
        "plt.show()\n",
        "\n",
        "imThres=thresholdImage(moon, 127)\n",
        "plt.imshow(imThres, cmap = 'gray', vmin=0, vmax=255)\n",
        "plt.show()\n",
        "\n",
        "unique7, counts7 = np.unique(np.around(imThres, decimals =3), return_counts=True)\n",
        "thres = np.asarray((unique7, counts7)).T\n",
        "print(thres)\n",
        "\n",
        "thresDel = np.delete(thres, 0, axis=1)\n",
        "\n",
        "final = thresDel.flatten()\n",
        "print(final)\n",
        "\n",
        "\n",
        "x44 = np.arange(2)\n",
        "y44 = final\n",
        "\n",
        "print('Histogram:')\n",
        "plt.bar(x44, y44)\n",
        "plt.show()"
      ],
      "metadata": {
        "id": "4Zvaeq0yi6IB"
      },
      "execution_count": null,
      "outputs": []
    },
    {
      "cell_type": "markdown",
      "source": [
        "<h1>Exercice 2 - generate images</h1>\n",
        "\n",
        "1. Create the array I 4 by 4.\n",
        "Black pixels have value 0, white pixels value 255, and grey pixels value 127. Display the image using imshow() and plot the histogram."
      ],
      "metadata": {
        "id": "J17fPXhzi9__"
      }
    },
    {
      "cell_type": "code",
      "source": [
        "array = np.array([[127, 127, 0, 255],[127, 0, 0, 255],[0, 127, 0, 255],[127, 127, 0, 255]])\n",
        "print('The array:')\n",
        "print(array)\n",
        "\n",
        "# Image\n",
        "plt.imshow(array, cmap='gray')\n",
        "plt.show()\n",
        "\n",
        "# Computing the histogram\n",
        "hist = computeHistogram(array)\n",
        "\n",
        "Freq = np.delete(hist, 0, axis=1)\n",
        "\n",
        "y = Freq.flatten()\n",
        "x = np.arange(0,len(y))\n",
        "\n",
        "\n",
        "# Plot the histogram\n",
        "print('Histogram:')\n",
        "plt.bar(x,y)\n",
        "plt.show()"
      ],
      "metadata": {
        "id": "587N0V1CjIJ2"
      },
      "execution_count": null,
      "outputs": []
    },
    {
      "cell_type": "markdown",
      "source": [
        "2. We want to generate a matrix having random values. Functions rand() and randn() from numpy.matlib module generate array of given shape with random values following respectively a uniform distribution on\n",
        "[\n",
        "0\n",
        ",\n",
        "1\n",
        "[\n",
        " and a normal distribution. Create an array of shape 512 by 512 having integer elements following an uniform distribution in the set\n",
        "{\n",
        "0\n",
        ",\n",
        "1\n",
        ",\n",
        "⋯\n",
        ",\n",
        "255\n",
        "}\n",
        " . We also want to create an array following a gaussian distribution with a mean of 128 and a standard deviation of 16 and with integer values. Display the images and their histogramms. Discuss the results."
      ],
      "metadata": {
        "id": "Y6QXDdqRjK4M"
      }
    },
    {
      "cell_type": "code",
      "source": [
        "import numpy.matlib\n",
        "from scipy.stats import norm\n",
        "import matplotlib.pyplot as plt\n",
        "import numpy as np\n",
        "\n",
        "rand_int = np.random.randint(0, 255, (512,512))\n",
        "print('Image 1:')\n",
        "print(rand_int)\n",
        "\n",
        "plt.imshow(rand_int, cmap='gray')\n",
        "plt.show()\n",
        "\n",
        "print('Histogram Uniformed:')\n",
        "histUni =  computeHistogram(rand_int)\n",
        "\n",
        "Freq = np.delete(histUni, 0, axis=1)\n",
        "\n",
        "y = Freq.flatten()\n",
        "x = np.arange(0, len(y))\n",
        "\n",
        "\n",
        "plt.bar(x,y)\n",
        "plt.show()\n",
        "\n",
        "\n",
        "rand_norm_int = np.around(np.random.normal(loc = 128, scale=16, size=(512,512) ), decimals =0)\n",
        "print('Image 2:')\n",
        "print(rand_norm_int)\n",
        "\n",
        "#Plotting\n",
        "plt.imshow(rand_norm_int, cmap='gray')\n",
        "plt.show()\n",
        "\n",
        "print('Histogram normalized:')\n",
        "histNorm = computeHistogram(rand_norm_int)\n",
        "\n",
        "FreqN = np.delete(histNorm, 0, axis=1)\n",
        "\n",
        "y2 = FreqN.flatten()\n",
        "x2 = np.arange(0,len(y2))\n",
        "\n",
        "\n",
        "plt.bar(x2,y2)\n",
        "plt.show()"
      ],
      "metadata": {
        "id": "O9fGc5ZgjNLT"
      },
      "execution_count": null,
      "outputs": []
    },
    {
      "cell_type": "markdown",
      "source": [
        "<h1>Exercice 3: image manipulation</h1>\n",
        "\n",
        "In this exercice, we work with image img/pout.png.\n",
        "1. Read and display this image\n",
        "\n"
      ],
      "metadata": {
        "id": "6x2hFk5IjPaJ"
      }
    },
    {
      "cell_type": "code",
      "source": [
        "# Reading the image\n",
        "girl = openImage('img/pout.png')\n",
        "\n",
        "# Displaying the image\n",
        "plt.imshow(girl, cmap = 'gray', vmin=0, vmax=255)\n",
        "plt.show()"
      ],
      "metadata": {
        "id": "erdbrhYUjdCr"
      },
      "execution_count": null,
      "outputs": []
    },
    {
      "cell_type": "markdown",
      "source": [
        "2. Examine the histogram. Determine the extrema of the image. What can you say about the quality of this image?"
      ],
      "metadata": {
        "id": "XUASMxk4jfek"
      }
    },
    {
      "cell_type": "code",
      "source": [
        "girl = openImage('img/pout.png')\n",
        "\n",
        "# Computing the histogram\n",
        "print('Histogram:')\n",
        "print(computeHistogram(girl))\n",
        "\n",
        "#maximum\n",
        "print('The maximum is:')\n",
        "print(np.max(girl))\n",
        "#minimum\n",
        "print('The minimum is:')\n",
        "print(np.min(girl))"
      ],
      "metadata": {
        "id": "toqljN0Vjhyv"
      },
      "execution_count": null,
      "outputs": []
    },
    {
      "cell_type": "markdown",
      "source": [
        "3. Using functions from Exercice 1, write the function histogramEqualization() getting one image, its histogram, applying an histogram equalization and returning the new image. Test this function on pout.png and discuss the result."
      ],
      "metadata": {
        "id": "xmtnlNUjjkZ_"
      }
    },
    {
      "cell_type": "code",
      "source": [
        "import numpy as np\n",
        "from matplotlib import pyplot as plt\n",
        "\n",
        "\n",
        "def histogramEqualization(I,h):\n",
        "    \"\"\" Array * (list[int] -> Array \"\"\"\n",
        "#readinf image\n",
        "img = openImage('img/pout.png')\n",
        "\n",
        "#histogram\n",
        "hist = computeHistogram(img)\n",
        "\n",
        "cdf = hist.cumsum()\n",
        "number_bins = cdf.size\n",
        "cdf_normalized = (number_bins-1) * cdf / cdf[-1]\n",
        "\n",
        "\n",
        "bins = list(range(0,242))\n",
        "image_equalized = np.interp(img.flatten(), bins, cdf_normalized)\n",
        "image_equalized = image_equalized.reshape(img.shape)\n",
        "\n",
        "# plotting the image\n",
        "print('Histogram equalization image:')\n",
        "plt.imshow(image_equalized, cmap = 'gray', vmin=0, vmax=242)\n",
        "plt.show()"
      ],
      "metadata": {
        "id": "xmEPDHKujjvV"
      },
      "execution_count": null,
      "outputs": []
    }
  ]
}